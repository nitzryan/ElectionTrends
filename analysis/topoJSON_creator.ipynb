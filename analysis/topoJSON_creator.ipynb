{
 "cells": [
  {
   "cell_type": "code",
   "execution_count": 44,
   "id": "1c883684",
   "metadata": {},
   "outputs": [],
   "source": [
    "import pandas as pd\n",
    "import numpy as np\n",
    "import json\n",
    "from tqdm import tqdm"
   ]
  },
  {
   "cell_type": "code",
   "execution_count": 45,
   "id": "4bc6bc91",
   "metadata": {},
   "outputs": [
    {
     "data": {
      "text/html": [
       "<div>\n",
       "<style scoped>\n",
       "    .dataframe tbody tr th:only-of-type {\n",
       "        vertical-align: middle;\n",
       "    }\n",
       "\n",
       "    .dataframe tbody tr th {\n",
       "        vertical-align: top;\n",
       "    }\n",
       "\n",
       "    .dataframe thead th {\n",
       "        text-align: right;\n",
       "    }\n",
       "</style>\n",
       "<table border=\"1\" class=\"dataframe\">\n",
       "  <thead>\n",
       "    <tr style=\"text-align: right;\">\n",
       "      <th></th>\n",
       "      <th>year</th>\n",
       "      <th>state_po</th>\n",
       "      <th>county_name</th>\n",
       "      <th>county_fips</th>\n",
       "      <th>totalvotes</th>\n",
       "      <th>dvotes</th>\n",
       "      <th>rvotes</th>\n",
       "      <th>statevotes</th>\n",
       "      <th>vote_percentage</th>\n",
       "      <th>r_margin_perc</th>\n",
       "    </tr>\n",
       "  </thead>\n",
       "  <tbody>\n",
       "    <tr>\n",
       "      <th>0</th>\n",
       "      <td>2000</td>\n",
       "      <td>AL</td>\n",
       "      <td>AUTAUGA</td>\n",
       "      <td>1001.0</td>\n",
       "      <td>17208</td>\n",
       "      <td>4942</td>\n",
       "      <td>11993</td>\n",
       "      <td>1672551</td>\n",
       "      <td>0.010288</td>\n",
       "      <td>0.004216</td>\n",
       "    </tr>\n",
       "    <tr>\n",
       "      <th>1</th>\n",
       "      <td>2000</td>\n",
       "      <td>AL</td>\n",
       "      <td>BALDWIN</td>\n",
       "      <td>1003.0</td>\n",
       "      <td>56480</td>\n",
       "      <td>13997</td>\n",
       "      <td>40872</td>\n",
       "      <td>1672551</td>\n",
       "      <td>0.033769</td>\n",
       "      <td>0.016068</td>\n",
       "    </tr>\n",
       "    <tr>\n",
       "      <th>2</th>\n",
       "      <td>2000</td>\n",
       "      <td>AL</td>\n",
       "      <td>BARBOUR</td>\n",
       "      <td>1005.0</td>\n",
       "      <td>10395</td>\n",
       "      <td>5188</td>\n",
       "      <td>5096</td>\n",
       "      <td>1672551</td>\n",
       "      <td>0.006215</td>\n",
       "      <td>-0.000055</td>\n",
       "    </tr>\n",
       "    <tr>\n",
       "      <th>3</th>\n",
       "      <td>2000</td>\n",
       "      <td>AL</td>\n",
       "      <td>BIBB</td>\n",
       "      <td>1007.0</td>\n",
       "      <td>7101</td>\n",
       "      <td>2710</td>\n",
       "      <td>4273</td>\n",
       "      <td>1672551</td>\n",
       "      <td>0.004246</td>\n",
       "      <td>0.000935</td>\n",
       "    </tr>\n",
       "    <tr>\n",
       "      <th>4</th>\n",
       "      <td>2000</td>\n",
       "      <td>AL</td>\n",
       "      <td>BLOUNT</td>\n",
       "      <td>1009.0</td>\n",
       "      <td>17973</td>\n",
       "      <td>4977</td>\n",
       "      <td>12667</td>\n",
       "      <td>1672551</td>\n",
       "      <td>0.010746</td>\n",
       "      <td>0.004598</td>\n",
       "    </tr>\n",
       "  </tbody>\n",
       "</table>\n",
       "</div>"
      ],
      "text/plain": [
       "   year state_po county_name  county_fips  totalvotes  dvotes  rvotes  \\\n",
       "0  2000       AL     AUTAUGA       1001.0       17208    4942   11993   \n",
       "1  2000       AL     BALDWIN       1003.0       56480   13997   40872   \n",
       "2  2000       AL     BARBOUR       1005.0       10395    5188    5096   \n",
       "3  2000       AL        BIBB       1007.0        7101    2710    4273   \n",
       "4  2000       AL      BLOUNT       1009.0       17973    4977   12667   \n",
       "\n",
       "   statevotes  vote_percentage  r_margin_perc  \n",
       "0     1672551         0.010288       0.004216  \n",
       "1     1672551         0.033769       0.016068  \n",
       "2     1672551         0.006215      -0.000055  \n",
       "3     1672551         0.004246       0.000935  \n",
       "4     1672551         0.010746       0.004598  "
      ]
     },
     "execution_count": 45,
     "metadata": {},
     "output_type": "execute_result"
    }
   ],
   "source": [
    "df = pd.read_csv('county_data.csv')\n",
    "df.head()"
   ]
  },
  {
   "cell_type": "code",
   "execution_count": 46,
   "id": "47fc1f5f",
   "metadata": {},
   "outputs": [],
   "source": [
    "with open('counties-albers-10m.json', 'r') as file:\n",
    "    topo = json.load(file)"
   ]
  },
  {
   "cell_type": "code",
   "execution_count": 47,
   "id": "25539392",
   "metadata": {},
   "outputs": [],
   "source": [
    "counties = topo[\"objects\"][\"counties\"][\"geometries\"]"
   ]
  },
  {
   "cell_type": "code",
   "execution_count": 48,
   "id": "c02c7115",
   "metadata": {},
   "outputs": [
    {
     "name": "stderr",
     "output_type": "stream",
     "text": [
      "C:\\Users\\nitzr\\AppData\\Local\\Temp\\ipykernel_40300\\1775769219.py:1: RuntimeWarning: invalid value encountered in cast\n",
      "  fips = df[\"county_fips\"].unique().astype(int).astype(str)\n"
     ]
    },
    {
     "data": {
      "text/plain": [
       "array(['01001', '01003', '01005', ..., '02039', '02040', '02099'],\n",
       "      dtype='<U11')"
      ]
     },
     "execution_count": 48,
     "metadata": {},
     "output_type": "execute_result"
    }
   ],
   "source": [
    "fips = df[\"county_fips\"].unique().astype(int).astype(str)\n",
    "f = np.vectorize(lambda x : x.zfill(5))\n",
    "fips = f(fips)\n",
    "fips"
   ]
  },
  {
   "cell_type": "code",
   "execution_count": 49,
   "id": "b0797183",
   "metadata": {},
   "outputs": [
    {
     "data": {
      "text/html": [
       "<div>\n",
       "<style scoped>\n",
       "    .dataframe tbody tr th:only-of-type {\n",
       "        vertical-align: middle;\n",
       "    }\n",
       "\n",
       "    .dataframe tbody tr th {\n",
       "        vertical-align: top;\n",
       "    }\n",
       "\n",
       "    .dataframe thead th {\n",
       "        text-align: right;\n",
       "    }\n",
       "</style>\n",
       "<table border=\"1\" class=\"dataframe\">\n",
       "  <thead>\n",
       "    <tr style=\"text-align: right;\">\n",
       "      <th></th>\n",
       "      <th>year</th>\n",
       "      <th>totalvotes</th>\n",
       "      <th>dvotes</th>\n",
       "      <th>rvotes</th>\n",
       "      <th>statevotes</th>\n",
       "      <th>vote_percentage</th>\n",
       "      <th>r_margin_perc</th>\n",
       "    </tr>\n",
       "  </thead>\n",
       "  <tbody>\n",
       "    <tr>\n",
       "      <th>0</th>\n",
       "      <td>2000</td>\n",
       "      <td>17208</td>\n",
       "      <td>4942</td>\n",
       "      <td>11993</td>\n",
       "      <td>1672551</td>\n",
       "      <td>0.010288</td>\n",
       "      <td>0.004216</td>\n",
       "    </tr>\n",
       "    <tr>\n",
       "      <th>3116</th>\n",
       "      <td>2004</td>\n",
       "      <td>20081</td>\n",
       "      <td>4758</td>\n",
       "      <td>15196</td>\n",
       "      <td>1883415</td>\n",
       "      <td>0.010662</td>\n",
       "      <td>0.005542</td>\n",
       "    </tr>\n",
       "    <tr>\n",
       "      <th>6233</th>\n",
       "      <td>2008</td>\n",
       "      <td>23641</td>\n",
       "      <td>6093</td>\n",
       "      <td>17403</td>\n",
       "      <td>2099819</td>\n",
       "      <td>0.011259</td>\n",
       "      <td>0.005386</td>\n",
       "    </tr>\n",
       "    <tr>\n",
       "      <th>9350</th>\n",
       "      <td>2012</td>\n",
       "      <td>23932</td>\n",
       "      <td>6363</td>\n",
       "      <td>17379</td>\n",
       "      <td>2070353</td>\n",
       "      <td>0.011559</td>\n",
       "      <td>0.005321</td>\n",
       "    </tr>\n",
       "    <tr>\n",
       "      <th>12467</th>\n",
       "      <td>2016</td>\n",
       "      <td>24973</td>\n",
       "      <td>5936</td>\n",
       "      <td>18172</td>\n",
       "      <td>2123367</td>\n",
       "      <td>0.011761</td>\n",
       "      <td>0.005763</td>\n",
       "    </tr>\n",
       "    <tr>\n",
       "      <th>15789</th>\n",
       "      <td>2020</td>\n",
       "      <td>27770</td>\n",
       "      <td>7503</td>\n",
       "      <td>19838</td>\n",
       "      <td>2323282</td>\n",
       "      <td>0.011953</td>\n",
       "      <td>0.005309</td>\n",
       "    </tr>\n",
       "  </tbody>\n",
       "</table>\n",
       "</div>"
      ],
      "text/plain": [
       "       year  totalvotes  dvotes  rvotes  statevotes  vote_percentage  \\\n",
       "0      2000       17208    4942   11993     1672551         0.010288   \n",
       "3116   2004       20081    4758   15196     1883415         0.010662   \n",
       "6233   2008       23641    6093   17403     2099819         0.011259   \n",
       "9350   2012       23932    6363   17379     2070353         0.011559   \n",
       "12467  2016       24973    5936   18172     2123367         0.011761   \n",
       "15789  2020       27770    7503   19838     2323282         0.011953   \n",
       "\n",
       "       r_margin_perc  \n",
       "0           0.004216  \n",
       "3116        0.005542  \n",
       "6233        0.005386  \n",
       "9350        0.005321  \n",
       "12467       0.005763  \n",
       "15789       0.005309  "
      ]
     },
     "execution_count": 49,
     "metadata": {},
     "output_type": "execute_result"
    }
   ],
   "source": [
    "df[df[\"county_fips\"] == 1001][[\"year\", \"totalvotes\", \"dvotes\", \"rvotes\", \"statevotes\", \"vote_percentage\", \"r_margin_perc\"]]"
   ]
  },
  {
   "cell_type": "code",
   "execution_count": 50,
   "id": "395ae479",
   "metadata": {},
   "outputs": [
    {
     "name": "stderr",
     "output_type": "stream",
     "text": [
      "100%|██████████| 3157/3157 [00:02<00:00, 1575.89it/s]\n"
     ]
    }
   ],
   "source": [
    "for code in tqdm(fips):\n",
    "    code_found = False\n",
    "    for county in counties:\n",
    "        if county[\"id\"] == code:\n",
    "            properties = county[\"properties\"]\n",
    "            properties[\"data\"] = []\n",
    "            county_df = df[df[\"county_fips\"] == int(code)][[\"year\", \"totalvotes\", \"dvotes\", \"rvotes\", \"statevotes\", \"vote_percentage\", \"r_margin_perc\"]]\n",
    "            for row in county_df.itertuples():\n",
    "                datapoint = {\n",
    "                    \"year\":row.year,\n",
    "                    \"totalvotes\":row.totalvotes,\n",
    "                    \"dvotes\":row.dvotes,\n",
    "                    \"rvotes\":row.rvotes,\n",
    "                    \"vote_perc\":row.vote_percentage,\n",
    "                    \"r_marg\":row.r_margin_perc\n",
    "                }\n",
    "                properties[\"data\"].append(datapoint)\n",
    "            county[\"properties\"] = properties\n",
    "            code_found = True\n",
    "            break\n",
    "        \n",
    "topo[\"objects\"][\"counties\"][\"geometries\"] = counties"
   ]
  },
  {
   "cell_type": "code",
   "execution_count": 51,
   "id": "6ec7e487",
   "metadata": {},
   "outputs": [],
   "source": [
    "with open(\"../site/data/county_map.json\", 'w', encoding='utf-8') as file:\n",
    "    json.dump(topo, file, ensure_ascii=False, indent=4)"
   ]
  }
 ],
 "metadata": {
  "kernelspec": {
   "display_name": "Python 3",
   "language": "python",
   "name": "python3"
  },
  "language_info": {
   "codemirror_mode": {
    "name": "ipython",
    "version": 3
   },
   "file_extension": ".py",
   "mimetype": "text/x-python",
   "name": "python",
   "nbconvert_exporter": "python",
   "pygments_lexer": "ipython3",
   "version": "3.11.9"
  }
 },
 "nbformat": 4,
 "nbformat_minor": 5
}
