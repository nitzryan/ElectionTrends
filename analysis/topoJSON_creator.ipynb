{
 "cells": [
  {
   "cell_type": "code",
   "execution_count": 1,
   "id": "1c883684",
   "metadata": {},
   "outputs": [],
   "source": [
    "import pandas as pd\n",
    "import numpy as np\n",
    "import json\n",
    "from tqdm import tqdm"
   ]
  },
  {
   "cell_type": "code",
   "execution_count": 2,
   "id": "4bc6bc91",
   "metadata": {},
   "outputs": [
    {
     "data": {
      "text/html": [
       "<div>\n",
       "<style scoped>\n",
       "    .dataframe tbody tr th:only-of-type {\n",
       "        vertical-align: middle;\n",
       "    }\n",
       "\n",
       "    .dataframe tbody tr th {\n",
       "        vertical-align: top;\n",
       "    }\n",
       "\n",
       "    .dataframe thead th {\n",
       "        text-align: right;\n",
       "    }\n",
       "</style>\n",
       "<table border=\"1\" class=\"dataframe\">\n",
       "  <thead>\n",
       "    <tr style=\"text-align: right;\">\n",
       "      <th></th>\n",
       "      <th>year</th>\n",
       "      <th>state_po</th>\n",
       "      <th>county_name</th>\n",
       "      <th>county_fips</th>\n",
       "      <th>totalvotes</th>\n",
       "      <th>dvotes</th>\n",
       "      <th>rvotes</th>\n",
       "      <th>statevotes</th>\n",
       "      <th>vote_percentage</th>\n",
       "      <th>r_margin_perc</th>\n",
       "    </tr>\n",
       "  </thead>\n",
       "  <tbody>\n",
       "    <tr>\n",
       "      <th>0</th>\n",
       "      <td>2000</td>\n",
       "      <td>AL</td>\n",
       "      <td>AUTAUGA</td>\n",
       "      <td>1001.0</td>\n",
       "      <td>17208</td>\n",
       "      <td>4942</td>\n",
       "      <td>11993</td>\n",
       "      <td>1672551</td>\n",
       "      <td>0.010288</td>\n",
       "      <td>0.004216</td>\n",
       "    </tr>\n",
       "    <tr>\n",
       "      <th>1</th>\n",
       "      <td>2000</td>\n",
       "      <td>AL</td>\n",
       "      <td>BALDWIN</td>\n",
       "      <td>1003.0</td>\n",
       "      <td>56480</td>\n",
       "      <td>13997</td>\n",
       "      <td>40872</td>\n",
       "      <td>1672551</td>\n",
       "      <td>0.033769</td>\n",
       "      <td>0.016068</td>\n",
       "    </tr>\n",
       "    <tr>\n",
       "      <th>2</th>\n",
       "      <td>2000</td>\n",
       "      <td>AL</td>\n",
       "      <td>BARBOUR</td>\n",
       "      <td>1005.0</td>\n",
       "      <td>10395</td>\n",
       "      <td>5188</td>\n",
       "      <td>5096</td>\n",
       "      <td>1672551</td>\n",
       "      <td>0.006215</td>\n",
       "      <td>-0.000055</td>\n",
       "    </tr>\n",
       "    <tr>\n",
       "      <th>3</th>\n",
       "      <td>2000</td>\n",
       "      <td>AL</td>\n",
       "      <td>BIBB</td>\n",
       "      <td>1007.0</td>\n",
       "      <td>7101</td>\n",
       "      <td>2710</td>\n",
       "      <td>4273</td>\n",
       "      <td>1672551</td>\n",
       "      <td>0.004246</td>\n",
       "      <td>0.000935</td>\n",
       "    </tr>\n",
       "    <tr>\n",
       "      <th>4</th>\n",
       "      <td>2000</td>\n",
       "      <td>AL</td>\n",
       "      <td>BLOUNT</td>\n",
       "      <td>1009.0</td>\n",
       "      <td>17973</td>\n",
       "      <td>4977</td>\n",
       "      <td>12667</td>\n",
       "      <td>1672551</td>\n",
       "      <td>0.010746</td>\n",
       "      <td>0.004598</td>\n",
       "    </tr>\n",
       "  </tbody>\n",
       "</table>\n",
       "</div>"
      ],
      "text/plain": [
       "   year state_po county_name  county_fips  totalvotes  dvotes  rvotes  \\\n",
       "0  2000       AL     AUTAUGA       1001.0       17208    4942   11993   \n",
       "1  2000       AL     BALDWIN       1003.0       56480   13997   40872   \n",
       "2  2000       AL     BARBOUR       1005.0       10395    5188    5096   \n",
       "3  2000       AL        BIBB       1007.0        7101    2710    4273   \n",
       "4  2000       AL      BLOUNT       1009.0       17973    4977   12667   \n",
       "\n",
       "   statevotes  vote_percentage  r_margin_perc  \n",
       "0     1672551         0.010288       0.004216  \n",
       "1     1672551         0.033769       0.016068  \n",
       "2     1672551         0.006215      -0.000055  \n",
       "3     1672551         0.004246       0.000935  \n",
       "4     1672551         0.010746       0.004598  "
      ]
     },
     "execution_count": 2,
     "metadata": {},
     "output_type": "execute_result"
    }
   ],
   "source": [
    "df = pd.read_csv('county_data.csv')\n",
    "df.head()"
   ]
  },
  {
   "cell_type": "code",
   "execution_count": 3,
   "id": "47fc1f5f",
   "metadata": {},
   "outputs": [],
   "source": [
    "with open('counties-albers-10m.json', 'r') as file:\n",
    "    topo = json.load(file)"
   ]
  },
  {
   "cell_type": "code",
   "execution_count": 4,
   "id": "a600efde",
   "metadata": {},
   "outputs": [],
   "source": [
    "states = df[\"state_po\"].unique().tolist()"
   ]
  },
  {
   "cell_type": "code",
   "execution_count": 5,
   "id": "c02c7115",
   "metadata": {},
   "outputs": [],
   "source": [
    "state_counties = []\n",
    "for state in states:\n",
    "    counties = df[df[\"state_po\"] == state][\"county_name\"].unique()\n",
    "    state_counties.append(counties)"
   ]
  },
  {
   "cell_type": "markdown",
   "id": "776be0b5",
   "metadata": {},
   "source": [
    "Use Andrew Carlson Maps, not included in repo"
   ]
  },
  {
   "cell_type": "code",
   "execution_count": 6,
   "id": "395ae479",
   "metadata": {},
   "outputs": [
    {
     "name": "stderr",
     "output_type": "stream",
     "text": [
      "100%|██████████| 51/51 [00:03<00:00, 13.16it/s]\n"
     ]
    }
   ],
   "source": [
    "for idx, state in enumerate(tqdm(states)):\n",
    "    county_names = state_counties[idx]\n",
    "    with open(f'maps/jsoncounties-{state}.min.js') as file:\n",
    "        state_json = json.load(file)\n",
    "    state_df = df[df[\"state_po\"] == state]\n",
    "    counties = state_json[\"features\"][\"counties\"]\n",
    "    for county_idx, county_name in enumerate(county_names):\n",
    "        county_name = county_name.lower()\n",
    "        for county in counties:\n",
    "            if county[\"name\"].lower() == county_name:\n",
    "                county[\"data\"] = []\n",
    "                county_df = state_df[state_df[\"county_name\"] == county_names[county_idx]][[\"year\", \"totalvotes\", \"dvotes\", \"rvotes\", \"statevotes\", \"vote_percentage\", \"r_margin_perc\"]]\n",
    "                for row in county_df.itertuples():\n",
    "                    datapoint = {\n",
    "                        \"year\":row.year,\n",
    "                        \"totalvotes\":row.totalvotes,\n",
    "                        \"dvotes\":row.dvotes,\n",
    "                        \"rvotes\":row.rvotes,\n",
    "                        \"vote_perc\":row.vote_percentage,\n",
    "                        \"r_marg\":row.r_margin_perc\n",
    "                    }\n",
    "                    county[\"data\"].append(datapoint)\n",
    "                break\n",
    "            \n",
    "    with open(f\"output/{state}.json\", 'w', encoding='utf-8') as file:\n",
    "        json.dump(state_json, file, ensure_ascii=False, indent=4)"
   ]
  }
 ],
 "metadata": {
  "kernelspec": {
   "display_name": "Python 3",
   "language": "python",
   "name": "python3"
  },
  "language_info": {
   "codemirror_mode": {
    "name": "ipython",
    "version": 3
   },
   "file_extension": ".py",
   "mimetype": "text/x-python",
   "name": "python",
   "nbconvert_exporter": "python",
   "pygments_lexer": "ipython3",
   "version": "3.11.9"
  }
 },
 "nbformat": 4,
 "nbformat_minor": 5
}
